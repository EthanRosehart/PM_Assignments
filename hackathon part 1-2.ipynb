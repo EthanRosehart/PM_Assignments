{
 "cells": [
  {
   "cell_type": "code",
   "execution_count": 1,
   "metadata": {},
   "outputs": [],
   "source": [
    "import pandas as pd\n",
    "import numpy as np\n",
    "import matplotlib as mp\n",
    "import statsmodels.api as sm\n",
    "from statsmodels.stats.api import het_breuschpagan\n",
    "from sklearn.model_selection import train_test_split, GridSearchCV\n",
    "from sklearn.linear_model import Lasso\n",
    "from sklearn.metrics import mean_absolute_percentage_error, mean_squared_error\n",
    "from sklearn.base import BaseEstimator, RegressorMixin"
   ]
  },
  {
   "cell_type": "code",
   "execution_count": 3,
   "metadata": {},
   "outputs": [],
   "source": [
    "df = pd.read_excel('/Users/lucasginevro/Downloads/data_set_hackathon.xlsx')"
   ]
  },
  {
   "cell_type": "code",
   "execution_count": 7,
   "metadata": {},
   "outputs": [
    {
     "name": "stdout",
     "output_type": "stream",
     "text": [
      "   Year-Month  Distinct Orders\n",
      "0     2009-07               38\n",
      "1     2009-08                9\n",
      "2     2009-09               12\n",
      "3     2009-10                4\n",
      "4     2009-11                2\n",
      "5     2009-12               21\n",
      "6     2010-01               29\n",
      "7     2010-02               36\n",
      "8     2010-03               43\n",
      "9     2010-04               11\n",
      "10    2010-05                1\n",
      "11    2010-06                1\n",
      "12    2010-12               34\n",
      "13    2011-01              124\n",
      "14    2011-02               53\n",
      "15    2011-03               29\n",
      "16    2011-04                6\n",
      "17    2011-05                4\n",
      "18    2011-06                6\n",
      "19    2011-07              238\n",
      "20    2011-08              186\n",
      "21    2011-09               89\n",
      "22    2011-10               13\n",
      "23    2011-11                3\n",
      "24    2012-01                1\n",
      "25    2012-04                1\n",
      "26    2012-11                1\n"
     ]
    }
   ],
   "source": [
    "# Convert 'order_date' to datetime\n",
    "df['order_date'] = pd.to_datetime(df['order_date'], format='%d.%m.%Y')\n",
    "\n",
    "# Extract year and month\n",
    "df['Year-Month'] = df['order_date'].dt.to_period('M')\n",
    "\n",
    "# Group by 'Year-Month' and count distinct 'Customer Order Code'\n",
    "monthly_distinct_orders = (\n",
    "    df.groupby('Year-Month')['Customer Order Code']\n",
    "    .nunique()\n",
    "    .reset_index(name='Distinct Orders')\n",
    ")\n",
    "\n",
    "print(monthly_distinct_orders)"
   ]
  },
  {
   "cell_type": "code",
   "execution_count": 15,
   "metadata": {},
   "outputs": [
    {
     "name": "stdout",
     "output_type": "stream",
     "text": [
      "Average: 36.851851851851855\n"
     ]
    }
   ],
   "source": [
    "average = monthly_distinct_orders['Distinct Orders'].mean()\n",
    "print(\"Average:\", average)\n"
   ]
  },
  {
   "cell_type": "code",
   "execution_count": 18,
   "metadata": {},
   "outputs": [
    {
     "name": "stdout",
     "output_type": "stream",
     "text": [
      "Total Distinct Orders: 995\n"
     ]
    }
   ],
   "source": [
    "total = monthly_distinct_orders['Distinct Orders'].sum()\n",
    "print(\"Total Distinct Orders:\", total)"
   ]
  },
  {
   "cell_type": "code",
   "execution_count": 48,
   "metadata": {},
   "outputs": [],
   "source": [
    "from sklearn.model_selection import train_test_split\n",
    "from sklearn.ensemble import RandomForestClassifier\n",
    "from sklearn.preprocessing import LabelEncoder\n",
    "from sklearn.metrics import classification_report\n",
    "import pandas as pd\n",
    "\n",
    "# Convert 'order_date' to datetime\n",
    "df['order_date'] = pd.to_datetime(df['order_date'], format='%d.%m.%Y')\n",
    "\n",
    "# Create time-based features\n",
    "df['month'] = df['order_date'].dt.month\n",
    "df['year'] = df['order_date'].dt.year"
   ]
  },
  {
   "cell_type": "code",
   "execution_count": 49,
   "metadata": {},
   "outputs": [],
   "source": [
    "# Clean and ensure 'Items' is numeric\n",
    "df['items'] = pd.to_numeric(df['items'], errors='coerce').fillna(0).astype(int)\n",
    "df = df.dropna(subset=['items'])\n",
    "df['items'] = df['items'].astype(int)"
   ]
  },
  {
   "cell_type": "code",
   "execution_count": 51,
   "metadata": {},
   "outputs": [],
   "source": [
    "# Encode categorical variables\n",
    "label_encoders = {}\n",
    "for col in ['Product Code', 'Customer Country Code', 'Route']:\n",
    "    df[col] = df[col].astype(str)\n",
    "    le = LabelEncoder()\n",
    "    df[col] = le.fit_transform(df[col])\n",
    "    label_encoders[col] = le"
   ]
  },
  {
   "cell_type": "code",
   "execution_count": 53,
   "metadata": {},
   "outputs": [],
   "source": [
    "# Define features and target\n",
    "X = df[['Product Code', 'Customer Country Code', 'month', 'year', 'Route']]\n",
    "y = df['items'] > df['items'].median()  \n",
    "\n",
    "# Split data\n",
    "X_train, X_test, y_train, y_test = train_test_split(X, y, test_size=0.2, random_state=42)"
   ]
  },
  {
   "cell_type": "code",
   "execution_count": 54,
   "metadata": {},
   "outputs": [],
   "source": [
    "# Train a Random Forest Classifier\n",
    "clf = RandomForestClassifier(random_state=42)\n",
    "clf.fit(X_train, y_train)\n",
    "\n",
    "# Make predictions\n",
    "y_pred = clf.predict(X_test)"
   ]
  },
  {
   "cell_type": "code",
   "execution_count": 55,
   "metadata": {},
   "outputs": [
    {
     "name": "stdout",
     "output_type": "stream",
     "text": [
      "              precision    recall  f1-score   support\n",
      "\n",
      "  Low Demand       0.79      0.78      0.78       242\n",
      " High Demand       0.69      0.71      0.70       173\n",
      "\n",
      "    accuracy                           0.75       415\n",
      "   macro avg       0.74      0.74      0.74       415\n",
      "weighted avg       0.75      0.75      0.75       415\n",
      "\n"
     ]
    }
   ],
   "source": [
    "# Evaluate the model\n",
    "report = classification_report(y_test, y_pred, target_names=[\"Low Demand\", \"High Demand\"])\n",
    "print(report)\n",
    "\n",
    "# Feature importance analysis\n",
    "feature_importances = pd.DataFrame({\n",
    "    'Feature': X.columns,\n",
    "    'Importance': clf.feature_importances_\n",
    "}).sort_values(by='Importance', ascending=False)"
   ]
  }
 ],
 "metadata": {
  "kernelspec": {
   "display_name": "Python 3",
   "language": "python",
   "name": "python3"
  },
  "language_info": {
   "codemirror_mode": {
    "name": "ipython",
    "version": 3
   },
   "file_extension": ".py",
   "mimetype": "text/x-python",
   "name": "python",
   "nbconvert_exporter": "python",
   "pygments_lexer": "ipython3",
   "version": "3.9.6"
  }
 },
 "nbformat": 4,
 "nbformat_minor": 2
}
