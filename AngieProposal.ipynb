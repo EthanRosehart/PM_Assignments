{
 "cells": [
  {
   "cell_type": "markdown",
   "metadata": {},
   "source": [
    "1. Distinct Monthly Orders (Time Series Forecasting)"
   ]
  },
  {
   "cell_type": "code",
   "execution_count": null,
   "metadata": {},
   "outputs": [],
   "source": [
    "# Import libraries\n",
    "import pandas as pd\n",
    "import numpy as np\n",
    "from statsmodels.tsa.statespace.sarimax import SARIMAX\n",
    "\n",
    "# Group data to calculate monthly distinct orders\n",
    "data['Order Date'] = pd.to_datetime(data['Order Date'], format='%d.%m.%Y')\n",
    "data['Month'] = data['Order Date'].dt.to_period('M')\n",
    "monthly_orders = data.groupby('Month')['Customer Order Code'].nunique().reset_index()\n",
    "\n",
    "# Prepare data for SARIMA\n",
    "monthly_orders.set_index('Month', inplace=True)\n",
    "sarima_model = SARIMAX(monthly_orders, order=(1, 1, 1), seasonal_order=(1, 1, 1, 12))\n",
    "sarima_fit = sarima_model.fit(disp=False)\n",
    "forecast = sarima_fit.get_forecast(steps=5).predicted_mean\n"
   ]
  },
  {
   "cell_type": "markdown",
   "metadata": {},
   "source": [
    "2. Classification Model (Choice Model)"
   ]
  },
  {
   "cell_type": "code",
   "execution_count": null,
   "metadata": {},
   "outputs": [],
   "source": [
    "from sklearn.preprocessing import OneHotEncoder\n",
    "from sklearn.linear_model import LogisticRegression\n",
    "from sklearn.model_selection import train_test_split\n",
    "from sklearn.metrics import classification_report\n",
    "\n",
    "# Encode categorical features\n",
    "data['Season'] = data['Order Date'].dt.month % 12 // 3 + 1  # Map months to seasons\n",
    "encoder = OneHotEncoder(sparse=False)\n",
    "season_encoded = encoder.fit_transform(data[['Season']])\n",
    "\n",
    "# Prepare features and target\n",
    "X = np.hstack((season_encoded, pd.get_dummies(data[['Route', 'Customer Country Code']])))\n",
    "y = data['Product Code']\n",
    "\n",
    "# Train-Test Split\n",
    "X_train, X_test, y_train, y_test = train_test_split(X, y, test_size=0.2, random_state=42)\n",
    "\n",
    "# Train model\n",
    "classifier = LogisticRegression(multi_class='multinomial', solver='lbfgs', max_iter=1000)\n",
    "classifier.fit(X_train, y_train)\n",
    "\n",
    "# Evaluate model\n",
    "y_pred = classifier.predict(X_test)\n",
    "print(classification_report(y_test, y_pred))\n"
   ]
  },
  {
   "cell_type": "markdown",
   "metadata": {},
   "source": [
    "3. Quantity Demanded (Regression)"
   ]
  },
  {
   "cell_type": "code",
   "execution_count": null,
   "metadata": {},
   "outputs": [],
   "source": [
    "from sklearn.linear_model import LassoCV\n",
    "from sklearn.metrics import mean_absolute_error\n",
    "from scipy.stats import mstats\n",
    "\n",
    "# Empirical quantiles for quantity\n",
    "quantiles = mstats.mquantiles(data['Items'], prob=[0.25, 0.5, 0.75])\n",
    "\n",
    "# Features and target\n",
    "X = pd.get_dummies(data[['Customer Country Code', 'Route', 'Value']])\n",
    "y = data['Items']\n",
    "\n",
    "# Train-Test Split\n",
    "X_train, X_test, y_train, y_test = train_test_split(X, y, test_size=0.2, random_state=42)\n",
    "\n",
    "# Train Lasso model\n",
    "lasso = LassoCV(cv=5).fit(X_train, y_train)\n",
    "\n",
    "# Evaluate model\n",
    "y_pred = lasso.predict(X_test)\n",
    "print(mean_absolute_error(y_test, y_pred))\n"
   ]
  },
  {
   "cell_type": "markdown",
   "metadata": {},
   "source": [
    "4. Demand Lead Time"
   ]
  },
  {
   "cell_type": "code",
   "execution_count": null,
   "metadata": {},
   "outputs": [],
   "source": [
    "# Calculate lead time\n",
    "data['Requested Delivery Date'] = pd.to_datetime(data['Requested Delivery Date'], format='%d.%m.%Y')\n",
    "data['Lead Time'] = (data['Requested Delivery Date'] - data['Order Date']).dt.days\n",
    "\n",
    "# Empirical quantiles for lead time\n",
    "lead_time_quantiles = mstats.mquantiles(data['Lead Time'], prob=[0.25, 0.5, 0.75])\n"
   ]
  },
  {
   "cell_type": "markdown",
   "metadata": {},
   "source": [
    "5. Monte Carlo Simulation"
   ]
  },
  {
   "cell_type": "code",
   "execution_count": null,
   "metadata": {},
   "outputs": [],
   "source": [
    "# Monte Carlo Simulation\n",
    "simulated_demand = []\n",
    "for _ in range(1000):  # Run 1000 simulations\n",
    "    orders = np.random.choice(monthly_orders['Customer Order Code'], size=12, replace=True)\n",
    "    quantities = np.random.normal(loc=quantiles[1], scale=quantiles[2]-quantiles[0], size=12)\n",
    "    lead_times = np.random.normal(loc=lead_time_quantiles[1], scale=lead_time_quantiles[2]-lead_time_quantiles[0], size=12)\n",
    "    simulated_demand.append((orders, quantities, lead_times))\n"
   ]
  },
  {
   "cell_type": "markdown",
   "metadata": {},
   "source": [
    "6. Advance vs. Urgent Demand"
   ]
  },
  {
   "cell_type": "code",
   "execution_count": null,
   "metadata": {},
   "outputs": [],
   "source": [
    "# Distinguish advance vs. urgent demand\n",
    "actual_advance_demand = test_data[test_data['Lead Time'] >= 40]  # Assuming threshold\n",
    "simulated_advance_demand = [d for d in simulated_demand if d[2] >= 40]\n"
   ]
  }
 ],
 "metadata": {
  "kernelspec": {
   "display_name": "base",
   "language": "python",
   "name": "python3"
  },
  "language_info": {
   "name": "python",
   "version": "3.12.4"
  }
 },
 "nbformat": 4,
 "nbformat_minor": 2
}
